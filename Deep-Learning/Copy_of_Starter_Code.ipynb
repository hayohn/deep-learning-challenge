{
  "cells": [
    {
      "cell_type": "markdown",
      "metadata": {
        "id": "hriXcGdWM9Pz"
      },
      "source": [
        "## Preprocessing"
      ]
    },
    {
      "cell_type": "code",
      "execution_count": null,
      "metadata": {
        "colab": {
          "base_uri": "https://localhost:8080/",
          "height": 293
        },
        "id": "FXdMuqVHM9P4",
        "outputId": "d82034a5-9b74-4361-e374-36a7db93531f"
      },
      "outputs": [
        {
          "output_type": "execute_result",
          "data": {
            "text/plain": [
              "        EIN                                      NAME APPLICATION_TYPE  \\\n",
              "0  10520599              BLUE KNIGHTS MOTORCYCLE CLUB              T10   \n",
              "1  10531628    AMERICAN CHESAPEAKE CLUB CHARITABLE TR               T3   \n",
              "2  10547893        ST CLOUD PROFESSIONAL FIREFIGHTERS               T5   \n",
              "3  10553066            SOUTHSIDE ATHLETIC ASSOCIATION               T3   \n",
              "4  10556103  GENETIC RESEARCH INSTITUTE OF THE DESERT               T3   \n",
              "\n",
              "        AFFILIATION CLASSIFICATION      USE_CASE  ORGANIZATION  STATUS  \\\n",
              "0       Independent          C1000    ProductDev   Association       1   \n",
              "1       Independent          C2000  Preservation  Co-operative       1   \n",
              "2  CompanySponsored          C3000    ProductDev   Association       1   \n",
              "3  CompanySponsored          C2000  Preservation         Trust       1   \n",
              "4       Independent          C1000     Heathcare         Trust       1   \n",
              "\n",
              "      INCOME_AMT SPECIAL_CONSIDERATIONS  ASK_AMT  IS_SUCCESSFUL  \n",
              "0              0                      N     5000              1  \n",
              "1         1-9999                      N   108590              1  \n",
              "2              0                      N     5000              0  \n",
              "3    10000-24999                      N     6692              1  \n",
              "4  100000-499999                      N   142590              1  "
            ],
            "text/html": [
              "\n",
              "  <div id=\"df-45d6c859-ab5d-49cb-84e9-b422dfe162fd\" class=\"colab-df-container\">\n",
              "    <div>\n",
              "<style scoped>\n",
              "    .dataframe tbody tr th:only-of-type {\n",
              "        vertical-align: middle;\n",
              "    }\n",
              "\n",
              "    .dataframe tbody tr th {\n",
              "        vertical-align: top;\n",
              "    }\n",
              "\n",
              "    .dataframe thead th {\n",
              "        text-align: right;\n",
              "    }\n",
              "</style>\n",
              "<table border=\"1\" class=\"dataframe\">\n",
              "  <thead>\n",
              "    <tr style=\"text-align: right;\">\n",
              "      <th></th>\n",
              "      <th>EIN</th>\n",
              "      <th>NAME</th>\n",
              "      <th>APPLICATION_TYPE</th>\n",
              "      <th>AFFILIATION</th>\n",
              "      <th>CLASSIFICATION</th>\n",
              "      <th>USE_CASE</th>\n",
              "      <th>ORGANIZATION</th>\n",
              "      <th>STATUS</th>\n",
              "      <th>INCOME_AMT</th>\n",
              "      <th>SPECIAL_CONSIDERATIONS</th>\n",
              "      <th>ASK_AMT</th>\n",
              "      <th>IS_SUCCESSFUL</th>\n",
              "    </tr>\n",
              "  </thead>\n",
              "  <tbody>\n",
              "    <tr>\n",
              "      <th>0</th>\n",
              "      <td>10520599</td>\n",
              "      <td>BLUE KNIGHTS MOTORCYCLE CLUB</td>\n",
              "      <td>T10</td>\n",
              "      <td>Independent</td>\n",
              "      <td>C1000</td>\n",
              "      <td>ProductDev</td>\n",
              "      <td>Association</td>\n",
              "      <td>1</td>\n",
              "      <td>0</td>\n",
              "      <td>N</td>\n",
              "      <td>5000</td>\n",
              "      <td>1</td>\n",
              "    </tr>\n",
              "    <tr>\n",
              "      <th>1</th>\n",
              "      <td>10531628</td>\n",
              "      <td>AMERICAN CHESAPEAKE CLUB CHARITABLE TR</td>\n",
              "      <td>T3</td>\n",
              "      <td>Independent</td>\n",
              "      <td>C2000</td>\n",
              "      <td>Preservation</td>\n",
              "      <td>Co-operative</td>\n",
              "      <td>1</td>\n",
              "      <td>1-9999</td>\n",
              "      <td>N</td>\n",
              "      <td>108590</td>\n",
              "      <td>1</td>\n",
              "    </tr>\n",
              "    <tr>\n",
              "      <th>2</th>\n",
              "      <td>10547893</td>\n",
              "      <td>ST CLOUD PROFESSIONAL FIREFIGHTERS</td>\n",
              "      <td>T5</td>\n",
              "      <td>CompanySponsored</td>\n",
              "      <td>C3000</td>\n",
              "      <td>ProductDev</td>\n",
              "      <td>Association</td>\n",
              "      <td>1</td>\n",
              "      <td>0</td>\n",
              "      <td>N</td>\n",
              "      <td>5000</td>\n",
              "      <td>0</td>\n",
              "    </tr>\n",
              "    <tr>\n",
              "      <th>3</th>\n",
              "      <td>10553066</td>\n",
              "      <td>SOUTHSIDE ATHLETIC ASSOCIATION</td>\n",
              "      <td>T3</td>\n",
              "      <td>CompanySponsored</td>\n",
              "      <td>C2000</td>\n",
              "      <td>Preservation</td>\n",
              "      <td>Trust</td>\n",
              "      <td>1</td>\n",
              "      <td>10000-24999</td>\n",
              "      <td>N</td>\n",
              "      <td>6692</td>\n",
              "      <td>1</td>\n",
              "    </tr>\n",
              "    <tr>\n",
              "      <th>4</th>\n",
              "      <td>10556103</td>\n",
              "      <td>GENETIC RESEARCH INSTITUTE OF THE DESERT</td>\n",
              "      <td>T3</td>\n",
              "      <td>Independent</td>\n",
              "      <td>C1000</td>\n",
              "      <td>Heathcare</td>\n",
              "      <td>Trust</td>\n",
              "      <td>1</td>\n",
              "      <td>100000-499999</td>\n",
              "      <td>N</td>\n",
              "      <td>142590</td>\n",
              "      <td>1</td>\n",
              "    </tr>\n",
              "  </tbody>\n",
              "</table>\n",
              "</div>\n",
              "    <div class=\"colab-df-buttons\">\n",
              "\n",
              "  <div class=\"colab-df-container\">\n",
              "    <button class=\"colab-df-convert\" onclick=\"convertToInteractive('df-45d6c859-ab5d-49cb-84e9-b422dfe162fd')\"\n",
              "            title=\"Convert this dataframe to an interactive table.\"\n",
              "            style=\"display:none;\">\n",
              "\n",
              "  <svg xmlns=\"http://www.w3.org/2000/svg\" height=\"24px\" viewBox=\"0 -960 960 960\">\n",
              "    <path d=\"M120-120v-720h720v720H120Zm60-500h600v-160H180v160Zm220 220h160v-160H400v160Zm0 220h160v-160H400v160ZM180-400h160v-160H180v160Zm440 0h160v-160H620v160ZM180-180h160v-160H180v160Zm440 0h160v-160H620v160Z\"/>\n",
              "  </svg>\n",
              "    </button>\n",
              "\n",
              "  <style>\n",
              "    .colab-df-container {\n",
              "      display:flex;\n",
              "      gap: 12px;\n",
              "    }\n",
              "\n",
              "    .colab-df-convert {\n",
              "      background-color: #E8F0FE;\n",
              "      border: none;\n",
              "      border-radius: 50%;\n",
              "      cursor: pointer;\n",
              "      display: none;\n",
              "      fill: #1967D2;\n",
              "      height: 32px;\n",
              "      padding: 0 0 0 0;\n",
              "      width: 32px;\n",
              "    }\n",
              "\n",
              "    .colab-df-convert:hover {\n",
              "      background-color: #E2EBFA;\n",
              "      box-shadow: 0px 1px 2px rgba(60, 64, 67, 0.3), 0px 1px 3px 1px rgba(60, 64, 67, 0.15);\n",
              "      fill: #174EA6;\n",
              "    }\n",
              "\n",
              "    .colab-df-buttons div {\n",
              "      margin-bottom: 4px;\n",
              "    }\n",
              "\n",
              "    [theme=dark] .colab-df-convert {\n",
              "      background-color: #3B4455;\n",
              "      fill: #D2E3FC;\n",
              "    }\n",
              "\n",
              "    [theme=dark] .colab-df-convert:hover {\n",
              "      background-color: #434B5C;\n",
              "      box-shadow: 0px 1px 3px 1px rgba(0, 0, 0, 0.15);\n",
              "      filter: drop-shadow(0px 1px 2px rgba(0, 0, 0, 0.3));\n",
              "      fill: #FFFFFF;\n",
              "    }\n",
              "  </style>\n",
              "\n",
              "    <script>\n",
              "      const buttonEl =\n",
              "        document.querySelector('#df-45d6c859-ab5d-49cb-84e9-b422dfe162fd button.colab-df-convert');\n",
              "      buttonEl.style.display =\n",
              "        google.colab.kernel.accessAllowed ? 'block' : 'none';\n",
              "\n",
              "      async function convertToInteractive(key) {\n",
              "        const element = document.querySelector('#df-45d6c859-ab5d-49cb-84e9-b422dfe162fd');\n",
              "        const dataTable =\n",
              "          await google.colab.kernel.invokeFunction('convertToInteractive',\n",
              "                                                    [key], {});\n",
              "        if (!dataTable) return;\n",
              "\n",
              "        const docLinkHtml = 'Like what you see? Visit the ' +\n",
              "          '<a target=\"_blank\" href=https://colab.research.google.com/notebooks/data_table.ipynb>data table notebook</a>'\n",
              "          + ' to learn more about interactive tables.';\n",
              "        element.innerHTML = '';\n",
              "        dataTable['output_type'] = 'display_data';\n",
              "        await google.colab.output.renderOutput(dataTable, element);\n",
              "        const docLink = document.createElement('div');\n",
              "        docLink.innerHTML = docLinkHtml;\n",
              "        element.appendChild(docLink);\n",
              "      }\n",
              "    </script>\n",
              "  </div>\n",
              "\n",
              "\n",
              "<div id=\"df-21313f1c-4dad-467a-965f-d9c1c14d7679\">\n",
              "  <button class=\"colab-df-quickchart\" onclick=\"quickchart('df-21313f1c-4dad-467a-965f-d9c1c14d7679')\"\n",
              "            title=\"Suggest charts\"\n",
              "            style=\"display:none;\">\n",
              "\n",
              "<svg xmlns=\"http://www.w3.org/2000/svg\" height=\"24px\"viewBox=\"0 0 24 24\"\n",
              "     width=\"24px\">\n",
              "    <g>\n",
              "        <path d=\"M19 3H5c-1.1 0-2 .9-2 2v14c0 1.1.9 2 2 2h14c1.1 0 2-.9 2-2V5c0-1.1-.9-2-2-2zM9 17H7v-7h2v7zm4 0h-2V7h2v10zm4 0h-2v-4h2v4z\"/>\n",
              "    </g>\n",
              "</svg>\n",
              "  </button>\n",
              "\n",
              "<style>\n",
              "  .colab-df-quickchart {\n",
              "      --bg-color: #E8F0FE;\n",
              "      --fill-color: #1967D2;\n",
              "      --hover-bg-color: #E2EBFA;\n",
              "      --hover-fill-color: #174EA6;\n",
              "      --disabled-fill-color: #AAA;\n",
              "      --disabled-bg-color: #DDD;\n",
              "  }\n",
              "\n",
              "  [theme=dark] .colab-df-quickchart {\n",
              "      --bg-color: #3B4455;\n",
              "      --fill-color: #D2E3FC;\n",
              "      --hover-bg-color: #434B5C;\n",
              "      --hover-fill-color: #FFFFFF;\n",
              "      --disabled-bg-color: #3B4455;\n",
              "      --disabled-fill-color: #666;\n",
              "  }\n",
              "\n",
              "  .colab-df-quickchart {\n",
              "    background-color: var(--bg-color);\n",
              "    border: none;\n",
              "    border-radius: 50%;\n",
              "    cursor: pointer;\n",
              "    display: none;\n",
              "    fill: var(--fill-color);\n",
              "    height: 32px;\n",
              "    padding: 0;\n",
              "    width: 32px;\n",
              "  }\n",
              "\n",
              "  .colab-df-quickchart:hover {\n",
              "    background-color: var(--hover-bg-color);\n",
              "    box-shadow: 0 1px 2px rgba(60, 64, 67, 0.3), 0 1px 3px 1px rgba(60, 64, 67, 0.15);\n",
              "    fill: var(--button-hover-fill-color);\n",
              "  }\n",
              "\n",
              "  .colab-df-quickchart-complete:disabled,\n",
              "  .colab-df-quickchart-complete:disabled:hover {\n",
              "    background-color: var(--disabled-bg-color);\n",
              "    fill: var(--disabled-fill-color);\n",
              "    box-shadow: none;\n",
              "  }\n",
              "\n",
              "  .colab-df-spinner {\n",
              "    border: 2px solid var(--fill-color);\n",
              "    border-color: transparent;\n",
              "    border-bottom-color: var(--fill-color);\n",
              "    animation:\n",
              "      spin 1s steps(1) infinite;\n",
              "  }\n",
              "\n",
              "  @keyframes spin {\n",
              "    0% {\n",
              "      border-color: transparent;\n",
              "      border-bottom-color: var(--fill-color);\n",
              "      border-left-color: var(--fill-color);\n",
              "    }\n",
              "    20% {\n",
              "      border-color: transparent;\n",
              "      border-left-color: var(--fill-color);\n",
              "      border-top-color: var(--fill-color);\n",
              "    }\n",
              "    30% {\n",
              "      border-color: transparent;\n",
              "      border-left-color: var(--fill-color);\n",
              "      border-top-color: var(--fill-color);\n",
              "      border-right-color: var(--fill-color);\n",
              "    }\n",
              "    40% {\n",
              "      border-color: transparent;\n",
              "      border-right-color: var(--fill-color);\n",
              "      border-top-color: var(--fill-color);\n",
              "    }\n",
              "    60% {\n",
              "      border-color: transparent;\n",
              "      border-right-color: var(--fill-color);\n",
              "    }\n",
              "    80% {\n",
              "      border-color: transparent;\n",
              "      border-right-color: var(--fill-color);\n",
              "      border-bottom-color: var(--fill-color);\n",
              "    }\n",
              "    90% {\n",
              "      border-color: transparent;\n",
              "      border-bottom-color: var(--fill-color);\n",
              "    }\n",
              "  }\n",
              "</style>\n",
              "\n",
              "  <script>\n",
              "    async function quickchart(key) {\n",
              "      const quickchartButtonEl =\n",
              "        document.querySelector('#' + key + ' button');\n",
              "      quickchartButtonEl.disabled = true;  // To prevent multiple clicks.\n",
              "      quickchartButtonEl.classList.add('colab-df-spinner');\n",
              "      try {\n",
              "        const charts = await google.colab.kernel.invokeFunction(\n",
              "            'suggestCharts', [key], {});\n",
              "      } catch (error) {\n",
              "        console.error('Error during call to suggestCharts:', error);\n",
              "      }\n",
              "      quickchartButtonEl.classList.remove('colab-df-spinner');\n",
              "      quickchartButtonEl.classList.add('colab-df-quickchart-complete');\n",
              "    }\n",
              "    (() => {\n",
              "      let quickchartButtonEl =\n",
              "        document.querySelector('#df-21313f1c-4dad-467a-965f-d9c1c14d7679 button');\n",
              "      quickchartButtonEl.style.display =\n",
              "        google.colab.kernel.accessAllowed ? 'block' : 'none';\n",
              "    })();\n",
              "  </script>\n",
              "</div>\n",
              "\n",
              "    </div>\n",
              "  </div>\n"
            ],
            "application/vnd.google.colaboratory.intrinsic+json": {
              "type": "dataframe",
              "variable_name": "application_df",
              "summary": "{\n  \"name\": \"application_df\",\n  \"rows\": 34299,\n  \"fields\": [\n    {\n      \"column\": \"EIN\",\n      \"properties\": {\n        \"dtype\": \"number\",\n        \"std\": 245147183,\n        \"min\": 10520599,\n        \"max\": 996086871,\n        \"num_unique_values\": 34299,\n        \"samples\": [\n          271598055,\n          900109768,\n          352562499\n        ],\n        \"semantic_type\": \"\",\n        \"description\": \"\"\n      }\n    },\n    {\n      \"column\": \"NAME\",\n      \"properties\": {\n        \"dtype\": \"string\",\n        \"num_unique_values\": 19568,\n        \"samples\": [\n          \"LOCAL 12 USW GOODYEAR INSTITUTE FORCAREER DEVELOPMENT\",\n          \"INTERNATION ASSOCIATION OF ELECTRICAL INSPECTORS\",\n          \"BRICKLAYERS & ALLIED CRAFTWORKERS LOCAL 13 VACATION FUND\"\n        ],\n        \"semantic_type\": \"\",\n        \"description\": \"\"\n      }\n    },\n    {\n      \"column\": \"APPLICATION_TYPE\",\n      \"properties\": {\n        \"dtype\": \"category\",\n        \"num_unique_values\": 17,\n        \"samples\": [\n          \"T10\",\n          \"T3\",\n          \"T6\"\n        ],\n        \"semantic_type\": \"\",\n        \"description\": \"\"\n      }\n    },\n    {\n      \"column\": \"AFFILIATION\",\n      \"properties\": {\n        \"dtype\": \"category\",\n        \"num_unique_values\": 6,\n        \"samples\": [\n          \"Independent\",\n          \"CompanySponsored\",\n          \"Other\"\n        ],\n        \"semantic_type\": \"\",\n        \"description\": \"\"\n      }\n    },\n    {\n      \"column\": \"CLASSIFICATION\",\n      \"properties\": {\n        \"dtype\": \"category\",\n        \"num_unique_values\": 71,\n        \"samples\": [\n          \"C1500\",\n          \"C1000\",\n          \"C1570\"\n        ],\n        \"semantic_type\": \"\",\n        \"description\": \"\"\n      }\n    },\n    {\n      \"column\": \"USE_CASE\",\n      \"properties\": {\n        \"dtype\": \"category\",\n        \"num_unique_values\": 5,\n        \"samples\": [\n          \"Preservation\",\n          \"Other\",\n          \"Heathcare\"\n        ],\n        \"semantic_type\": \"\",\n        \"description\": \"\"\n      }\n    },\n    {\n      \"column\": \"ORGANIZATION\",\n      \"properties\": {\n        \"dtype\": \"category\",\n        \"num_unique_values\": 4,\n        \"samples\": [\n          \"Co-operative\",\n          \"Corporation\",\n          \"Association\"\n        ],\n        \"semantic_type\": \"\",\n        \"description\": \"\"\n      }\n    },\n    {\n      \"column\": \"STATUS\",\n      \"properties\": {\n        \"dtype\": \"number\",\n        \"std\": 0,\n        \"min\": 0,\n        \"max\": 1,\n        \"num_unique_values\": 2,\n        \"samples\": [\n          0,\n          1\n        ],\n        \"semantic_type\": \"\",\n        \"description\": \"\"\n      }\n    },\n    {\n      \"column\": \"INCOME_AMT\",\n      \"properties\": {\n        \"dtype\": \"category\",\n        \"num_unique_values\": 9,\n        \"samples\": [\n          \"1M-5M\",\n          \"1-9999\"\n        ],\n        \"semantic_type\": \"\",\n        \"description\": \"\"\n      }\n    },\n    {\n      \"column\": \"SPECIAL_CONSIDERATIONS\",\n      \"properties\": {\n        \"dtype\": \"category\",\n        \"num_unique_values\": 2,\n        \"samples\": [\n          \"Y\",\n          \"N\"\n        ],\n        \"semantic_type\": \"\",\n        \"description\": \"\"\n      }\n    },\n    {\n      \"column\": \"ASK_AMT\",\n      \"properties\": {\n        \"dtype\": \"number\",\n        \"std\": 87130452,\n        \"min\": 5000,\n        \"max\": 8597806340,\n        \"num_unique_values\": 8747,\n        \"samples\": [\n          1328927,\n          42942\n        ],\n        \"semantic_type\": \"\",\n        \"description\": \"\"\n      }\n    },\n    {\n      \"column\": \"IS_SUCCESSFUL\",\n      \"properties\": {\n        \"dtype\": \"number\",\n        \"std\": 0,\n        \"min\": 0,\n        \"max\": 1,\n        \"num_unique_values\": 2,\n        \"samples\": [\n          0,\n          1\n        ],\n        \"semantic_type\": \"\",\n        \"description\": \"\"\n      }\n    }\n  ]\n}"
            }
          },
          "metadata": {},
          "execution_count": 1
        }
      ],
      "source": [
        "# Import our dependencies\n",
        "from sklearn.model_selection import train_test_split\n",
        "from sklearn.preprocessing import StandardScaler\n",
        "import pandas as pd\n",
        "import tensorflow as tf\n",
        "\n",
        "#  Import and read the charity_data.csv.\n",
        "import pandas as pd\n",
        "application_df = pd.read_csv(\"https://static.bc-edx.com/data/dl-1-2/m21/lms/starter/charity_data.csv\")\n",
        "application_df.head()"
      ]
    },
    {
      "cell_type": "code",
      "source": [
        "# Identify the target variable\n",
        "target = application_df[\"IS_SUCCESSFUL\"]\n",
        "\n",
        "# Identify the feature variables\n",
        "features = application_df.drop(columns=[\"IS_SUCCESSFUL\"])"
      ],
      "metadata": {
        "id": "roZC5AS5N7aG"
      },
      "execution_count": null,
      "outputs": []
    },
    {
      "cell_type": "code",
      "execution_count": null,
      "metadata": {
        "id": "8dTTcRALM9P7"
      },
      "outputs": [],
      "source": [
        "# Drop the non-beneficial ID columns, 'EIN' and 'NAME'.\n",
        "features = application_df.drop(columns=[\"EIN\", \"NAME\"])"
      ]
    },
    {
      "cell_type": "code",
      "execution_count": null,
      "metadata": {
        "colab": {
          "base_uri": "https://localhost:8080/"
        },
        "id": "hnH6hMj4M9P7",
        "outputId": "afc47fbf-abd2-44ad-8492-2bf101128cad"
      },
      "outputs": [
        {
          "output_type": "stream",
          "name": "stdout",
          "text": [
            "APPLICATION_TYPE            17\n",
            "AFFILIATION                  6\n",
            "CLASSIFICATION              71\n",
            "USE_CASE                     5\n",
            "ORGANIZATION                 4\n",
            "STATUS                       2\n",
            "INCOME_AMT                   9\n",
            "SPECIAL_CONSIDERATIONS       2\n",
            "ASK_AMT                   8747\n",
            "IS_SUCCESSFUL                2\n",
            "dtype: int64\n"
          ]
        }
      ],
      "source": [
        "# Determine the number of unique values in each column.\n",
        "print(features.nunique())"
      ]
    },
    {
      "cell_type": "code",
      "execution_count": null,
      "metadata": {
        "colab": {
          "base_uri": "https://localhost:8080/"
        },
        "id": "J0_m3V1RM9P8",
        "outputId": "f13e07cf-3eac-44d8-92d6-bded1092140d"
      },
      "outputs": [
        {
          "output_type": "stream",
          "name": "stdout",
          "text": [
            "T3     27037\n",
            "T4      1542\n",
            "T6      1216\n",
            "T5      1173\n",
            "T19     1065\n",
            "T8       737\n",
            "T7       725\n",
            "T10      528\n",
            "T9       156\n",
            "T13       66\n",
            "T12       27\n",
            "T2        16\n",
            "T25        3\n",
            "T14        3\n",
            "T29        2\n",
            "T15        2\n",
            "T17        1\n",
            "Name: APPLICATION_TYPE, dtype: int64\n"
          ]
        }
      ],
      "source": [
        "# Look at APPLICATION_TYPE value counts for binning\n",
        "application_type_counts = application_df[\"APPLICATION_TYPE\"].value_counts()\n",
        "print(application_type_counts)"
      ]
    },
    {
      "cell_type": "code",
      "execution_count": null,
      "metadata": {
        "colab": {
          "base_uri": "https://localhost:8080/"
        },
        "id": "yFSaaDsiM9P8",
        "outputId": "7ebead77-904d-4b60-f50f-56f3adaf8a14"
      },
      "outputs": [
        {
          "output_type": "execute_result",
          "data": {
            "text/plain": [
              "T3       27037\n",
              "T4        1542\n",
              "T6        1216\n",
              "T5        1173\n",
              "T19       1065\n",
              "T8         737\n",
              "T7         725\n",
              "T10        528\n",
              "Other      276\n",
              "Name: APPLICATION_TYPE, dtype: int64"
            ]
          },
          "metadata": {},
          "execution_count": 10
        }
      ],
      "source": [
        "# Choose a cutoff value and create a list of application types to be replaced\n",
        "# use the variable name `application_types_to_replace`\n",
        "cutoff_value = 500\n",
        "application_types_to_replace = application_type_counts[application_type_counts < cutoff_value].index.tolist()\n",
        "\n",
        "# Replace in dataframe\n",
        "for app in application_types_to_replace:\n",
        "    application_df['APPLICATION_TYPE'] = application_df['APPLICATION_TYPE'].replace(app,\"Other\")\n",
        "\n",
        "# Check to make sure binning was successful\n",
        "application_df['APPLICATION_TYPE'].value_counts()"
      ]
    },
    {
      "cell_type": "code",
      "execution_count": null,
      "metadata": {
        "colab": {
          "base_uri": "https://localhost:8080/"
        },
        "id": "US4N349nM9P9",
        "outputId": "03000d6c-86b3-4721-fd65-2029ab78d0ad"
      },
      "outputs": [
        {
          "output_type": "stream",
          "name": "stdout",
          "text": [
            "C1000    17326\n",
            "C2000     6074\n",
            "C1200     4837\n",
            "C3000     1918\n",
            "C2100     1883\n",
            "         ...  \n",
            "C4120        1\n",
            "C8210        1\n",
            "C2561        1\n",
            "C4500        1\n",
            "C2150        1\n",
            "Name: CLASSIFICATION, Length: 71, dtype: int64\n"
          ]
        }
      ],
      "source": [
        "# Look at CLASSIFICATION value counts for binning\n",
        "classification_counts = application_df[\"CLASSIFICATION\"].value_counts()\n",
        "print(classification_counts)"
      ]
    },
    {
      "cell_type": "code",
      "execution_count": null,
      "metadata": {
        "colab": {
          "base_uri": "https://localhost:8080/"
        },
        "id": "V9lk7wiDM9P-",
        "outputId": "d9dc973f-2870-4556-ee4b-d9bda95e1e6f"
      },
      "outputs": [
        {
          "output_type": "stream",
          "name": "stdout",
          "text": [
            "C1000    17326\n",
            "C2000     6074\n",
            "C1200     4837\n",
            "C3000     1918\n",
            "C2100     1883\n",
            "C7000      777\n",
            "C1700      287\n",
            "C4000      194\n",
            "C5000      116\n",
            "C1270      114\n",
            "C2700      104\n",
            "C2800       95\n",
            "C7100       75\n",
            "C1300       58\n",
            "C1280       50\n",
            "C1230       36\n",
            "C1400       34\n",
            "C7200       32\n",
            "C2300       32\n",
            "C1240       30\n",
            "C8000       20\n",
            "C7120       18\n",
            "C1500       16\n",
            "C1800       15\n",
            "C6000       15\n",
            "C1250       14\n",
            "C8200       11\n",
            "C1238       10\n",
            "C1278       10\n",
            "C1235        9\n",
            "C1237        9\n",
            "C7210        7\n",
            "C2400        6\n",
            "C1720        6\n",
            "C4100        6\n",
            "C1257        5\n",
            "C1600        5\n",
            "C1260        3\n",
            "C2710        3\n",
            "C0           3\n",
            "C3200        2\n",
            "C1234        2\n",
            "C1246        2\n",
            "C1267        2\n",
            "C1256        2\n",
            "Name: CLASSIFICATION, dtype: int64\n"
          ]
        }
      ],
      "source": [
        "# You may find it helpful to look at CLASSIFICATION value counts >1\n",
        "# Filter classification_counts where count is greater than 1\n",
        "classification_counts_gt_1 = classification_counts[classification_counts > 1]\n",
        "\n",
        "# Print the filtered classification counts\n",
        "print(classification_counts_gt_1)"
      ]
    },
    {
      "cell_type": "code",
      "execution_count": null,
      "metadata": {
        "colab": {
          "base_uri": "https://localhost:8080/"
        },
        "id": "JI7OmlhyM9P-",
        "outputId": "9aa1fdce-8571-48af-c5fb-ca00fcd934aa"
      },
      "outputs": [
        {
          "output_type": "execute_result",
          "data": {
            "text/plain": [
              "C1000    17326\n",
              "C2000     6074\n",
              "C1200     4837\n",
              "Other     2261\n",
              "C3000     1918\n",
              "C2100     1883\n",
              "Name: CLASSIFICATION, dtype: int64"
            ]
          },
          "metadata": {},
          "execution_count": 14
        }
      ],
      "source": [
        "# Choose a cutoff value and create a list of classifications to be replaced\n",
        "# use the variable name `classifications_to_replace`\n",
        "# Choose a cutoff value\n",
        "cutoff_value_class = 1000\n",
        "\n",
        "classifications_to_replace = classification_counts[classification_counts < cutoff_value_class].index.tolist()\n",
        "# Replace in dataframe\n",
        "for cls in classifications_to_replace:\n",
        "    application_df['CLASSIFICATION'] = application_df['CLASSIFICATION'].replace(cls,\"Other\")\n",
        "\n",
        "# Check to make sure binning was successful\n",
        "application_df['CLASSIFICATION'].value_counts()"
      ]
    },
    {
      "cell_type": "code",
      "execution_count": null,
      "metadata": {
        "colab": {
          "base_uri": "https://localhost:8080/"
        },
        "id": "YYizRfUqM9P_",
        "outputId": "70877e2c-7cc3-4527-d13b-58b1ea3f9734"
      },
      "outputs": [
        {
          "output_type": "execute_result",
          "data": {
            "text/plain": [
              "(34299, 25)"
            ]
          },
          "metadata": {},
          "execution_count": 20
        }
      ],
      "source": [
        "# Convert categorical data to numeric with `pd.get_dummies` for APPLICATION_TYPE and CLASSIFICATION columns\n",
        "encoded_df = pd.get_dummies(application_df, columns=[\"APPLICATION_TYPE\", \"CLASSIFICATION\"])\n",
        "\n",
        "# Check the shape of the encoded dataframe\n",
        "encoded_df.shape"
      ]
    },
    {
      "cell_type": "code",
      "source": [
        "# Check for missing values\n",
        "print(application_df.isnull().sum())\n",
        "\n",
        "# Handle missing values\n",
        "# For example, if you want to drop rows with missing values:\n",
        "# application_df = application_df.dropna()\n",
        "\n",
        "# Convert categorical variables to numeric using one-hot encoding\n",
        "encoded_df = pd.get_dummies(application_df, columns=[\"APPLICATION_TYPE\", \"CLASSIFICATION\"])\n",
        "\n",
        "# Verify data types\n",
        "print(encoded_df.dtypes)"
      ],
      "metadata": {
        "colab": {
          "base_uri": "https://localhost:8080/"
        },
        "id": "jSY35J7Xlxtx",
        "outputId": "1b6b3b23-32a6-4d9b-f28d-cdf21c10b810"
      },
      "execution_count": null,
      "outputs": [
        {
          "output_type": "stream",
          "name": "stdout",
          "text": [
            "EIN                       0\n",
            "NAME                      0\n",
            "APPLICATION_TYPE          0\n",
            "AFFILIATION               0\n",
            "CLASSIFICATION            0\n",
            "USE_CASE                  0\n",
            "ORGANIZATION              0\n",
            "STATUS                    0\n",
            "INCOME_AMT                0\n",
            "SPECIAL_CONSIDERATIONS    0\n",
            "ASK_AMT                   0\n",
            "IS_SUCCESSFUL             0\n",
            "dtype: int64\n",
            "EIN                        int64\n",
            "NAME                      object\n",
            "AFFILIATION               object\n",
            "USE_CASE                  object\n",
            "ORGANIZATION              object\n",
            "STATUS                     int64\n",
            "INCOME_AMT                object\n",
            "SPECIAL_CONSIDERATIONS    object\n",
            "ASK_AMT                    int64\n",
            "IS_SUCCESSFUL              int64\n",
            "APPLICATION_TYPE_Other     uint8\n",
            "APPLICATION_TYPE_T10       uint8\n",
            "APPLICATION_TYPE_T19       uint8\n",
            "APPLICATION_TYPE_T3        uint8\n",
            "APPLICATION_TYPE_T4        uint8\n",
            "APPLICATION_TYPE_T5        uint8\n",
            "APPLICATION_TYPE_T6        uint8\n",
            "APPLICATION_TYPE_T7        uint8\n",
            "APPLICATION_TYPE_T8        uint8\n",
            "CLASSIFICATION_C1000       uint8\n",
            "CLASSIFICATION_C1200       uint8\n",
            "CLASSIFICATION_C2000       uint8\n",
            "CLASSIFICATION_C2100       uint8\n",
            "CLASSIFICATION_C3000       uint8\n",
            "CLASSIFICATION_Other       uint8\n",
            "dtype: object\n"
          ]
        }
      ]
    },
    {
      "cell_type": "code",
      "execution_count": null,
      "metadata": {
        "colab": {
          "base_uri": "https://localhost:8080/"
        },
        "id": "KuY0ORKFM9P_",
        "outputId": "3c90ab16-7753-48af-967a-b08fa4b94e20"
      },
      "outputs": [
        {
          "output_type": "stream",
          "name": "stdout",
          "text": [
            "Training features shape: (27439, 24)\n",
            "Testing features shape: (6860, 24)\n",
            "Training target shape: (27439,)\n",
            "Testing target shape: (6860,)\n"
          ]
        }
      ],
      "source": [
        "# Split our preprocessed data into our features and target arrays\n",
        "X = encoded_df.drop(columns=[\"IS_SUCCESSFUL\"])\n",
        "y = encoded_df[\"IS_SUCCESSFUL\"]\n",
        "\n",
        "from sklearn.model_selection import train_test_split\n",
        "\n",
        "# Split the preprocessed data into training and testing datasets\n",
        "X_train, X_test, y_train, y_test = train_test_split(X, y, test_size=0.2, random_state=42)\n",
        "\n",
        "# Print the shapes of the training and testing datasets\n",
        "print(\"Training features shape:\", X_train.shape)\n",
        "print(\"Testing features shape:\", X_test.shape)\n",
        "print(\"Training target shape:\", y_train.shape)\n",
        "print(\"Testing target shape:\", y_test.shape)"
      ]
    },
    {
      "cell_type": "code",
      "source": [
        "from sklearn.preprocessing import StandardScaler\n",
        "# Convert categorical columns to dummy variables with the same set of columns for both training and testing datasets\n",
        "X_train_encoded = pd.get_dummies(X_train_numeric)\n",
        "X_test_encoded = pd.get_dummies(X_test_numeric)\n",
        "\n",
        "# Get the columns in the training dataset after encoding\n",
        "train_cols = X_train_encoded.columns\n",
        "\n",
        "# Realign the columns in the testing dataset to match those in the training dataset\n",
        "X_test_encoded = X_test_encoded.reindex(columns=train_cols, fill_value=0)\n",
        "\n",
        "# Create a StandardScaler instance\n",
        "scaler = StandardScaler()\n",
        "\n",
        "# Fit the StandardScaler to the training data and transform the training and testing data\n",
        "X_train_scaled = scaler.fit_transform(X_train_encoded)\n",
        "X_test_scaled = scaler.transform(X_test_encoded)"
      ],
      "metadata": {
        "id": "A2YV7asVm0Qs"
      },
      "execution_count": null,
      "outputs": []
    },
    {
      "cell_type": "markdown",
      "metadata": {
        "id": "EW2sP3jDM9QA"
      },
      "source": [
        "## Compile, Train and Evaluate the Model"
      ]
    },
    {
      "cell_type": "code",
      "execution_count": null,
      "metadata": {
        "colab": {
          "base_uri": "https://localhost:8080/"
        },
        "id": "aE2oIQCdM9QA",
        "outputId": "ed29f327-1b83-43c4-f88b-cd2202adf2e1"
      },
      "outputs": [
        {
          "output_type": "stream",
          "name": "stdout",
          "text": [
            "Model: \"sequential_2\"\n",
            "_________________________________________________________________\n",
            " Layer (type)                Output Shape              Param #   \n",
            "=================================================================\n",
            " dense_3 (Dense)             (None, 10)                440       \n",
            "                                                                 \n",
            " dense_4 (Dense)             (None, 5)                 55        \n",
            "                                                                 \n",
            " dense_5 (Dense)             (None, 1)                 6         \n",
            "                                                                 \n",
            "=================================================================\n",
            "Total params: 501 (1.96 KB)\n",
            "Trainable params: 501 (1.96 KB)\n",
            "Non-trainable params: 0 (0.00 Byte)\n",
            "_________________________________________________________________\n"
          ]
        }
      ],
      "source": [
        "# Define the number of input features\n",
        "input_features = len(X_train.columns)\n",
        "\n",
        "# Define the number of nodes in each hidden layer\n",
        "hidden_nodes_layer1 = 10\n",
        "hidden_nodes_layer2 = 5\n",
        "\n",
        "# Define the model - deep neural net\n",
        "nn = tf.keras.models.Sequential()\n",
        "\n",
        "# First hidden layer\n",
        "nn.add(tf.keras.layers.Dense(units=hidden_nodes_layer1, input_dim=X_train_scaled.shape[1], activation='relu'))\n",
        "\n",
        "# Second hidden layer\n",
        "nn.add(tf.keras.layers.Dense(units=hidden_nodes_layer2, activation='relu'))\n",
        "\n",
        "# Output layer\n",
        "nn.add(tf.keras.layers.Dense(units=1, activation='sigmoid'))\n",
        "\n",
        "# Check the structure of the model\n",
        "nn.summary()"
      ]
    },
    {
      "cell_type": "code",
      "execution_count": null,
      "metadata": {
        "id": "KQQp2YqNM9QA"
      },
      "outputs": [],
      "source": [
        "# Compile the model\n",
        "nn.compile(loss='binary_crossentropy', optimizer='adam', metrics=['accuracy'])"
      ]
    },
    {
      "cell_type": "code",
      "execution_count": null,
      "metadata": {
        "colab": {
          "base_uri": "https://localhost:8080/"
        },
        "id": "vs-LzuUjM9QB",
        "outputId": "1d25cbe6-56c1-412c-ee5a-64fd1069c020"
      },
      "outputs": [
        {
          "output_type": "stream",
          "name": "stdout",
          "text": [
            "Epoch 1/100\n",
            "858/858 [==============================] - 5s 2ms/step - loss: 0.5970 - accuracy: 0.7012\n",
            "Epoch 2/100\n",
            "858/858 [==============================] - 2s 2ms/step - loss: 0.5604 - accuracy: 0.7286\n",
            "Epoch 3/100\n",
            "858/858 [==============================] - 3s 3ms/step - loss: 0.5561 - accuracy: 0.7293\n",
            "Epoch 4/100\n",
            "858/858 [==============================] - 2s 2ms/step - loss: 0.5542 - accuracy: 0.7289\n",
            "Epoch 5/100\n",
            "858/858 [==============================] - 2s 2ms/step - loss: 0.5526 - accuracy: 0.7296\n",
            "Epoch 6/100\n",
            "858/858 [==============================] - 2s 2ms/step - loss: 0.5519 - accuracy: 0.7304\n",
            "Epoch 7/100\n",
            "858/858 [==============================] - 2s 2ms/step - loss: 0.5507 - accuracy: 0.7303\n",
            "Epoch 8/100\n",
            "858/858 [==============================] - 2s 2ms/step - loss: 0.5500 - accuracy: 0.7309\n",
            "Epoch 9/100\n",
            "858/858 [==============================] - 3s 4ms/step - loss: 0.5489 - accuracy: 0.7318\n",
            "Epoch 10/100\n",
            "858/858 [==============================] - 2s 3ms/step - loss: 0.5489 - accuracy: 0.7316\n",
            "Epoch 11/100\n",
            "858/858 [==============================] - 2s 2ms/step - loss: 0.5485 - accuracy: 0.7317\n",
            "Epoch 12/100\n",
            "858/858 [==============================] - 2s 2ms/step - loss: 0.5482 - accuracy: 0.7314\n",
            "Epoch 13/100\n",
            "858/858 [==============================] - 2s 2ms/step - loss: 0.5480 - accuracy: 0.7315\n",
            "Epoch 14/100\n",
            "858/858 [==============================] - 2s 2ms/step - loss: 0.5476 - accuracy: 0.7326\n",
            "Epoch 15/100\n",
            "858/858 [==============================] - 2s 2ms/step - loss: 0.5476 - accuracy: 0.7327\n",
            "Epoch 16/100\n",
            "858/858 [==============================] - 2s 3ms/step - loss: 0.5475 - accuracy: 0.7327\n",
            "Epoch 17/100\n",
            "858/858 [==============================] - 2s 3ms/step - loss: 0.5472 - accuracy: 0.7322\n",
            "Epoch 18/100\n",
            "858/858 [==============================] - 2s 2ms/step - loss: 0.5471 - accuracy: 0.7325\n",
            "Epoch 19/100\n",
            "858/858 [==============================] - 2s 2ms/step - loss: 0.5467 - accuracy: 0.7334\n",
            "Epoch 20/100\n",
            "858/858 [==============================] - 2s 2ms/step - loss: 0.5469 - accuracy: 0.7324\n",
            "Epoch 21/100\n",
            "858/858 [==============================] - 2s 2ms/step - loss: 0.5465 - accuracy: 0.7330\n",
            "Epoch 22/100\n",
            "858/858 [==============================] - 2s 2ms/step - loss: 0.5463 - accuracy: 0.7327\n",
            "Epoch 23/100\n",
            "858/858 [==============================] - 3s 3ms/step - loss: 0.5463 - accuracy: 0.7327\n",
            "Epoch 24/100\n",
            "858/858 [==============================] - 2s 2ms/step - loss: 0.5463 - accuracy: 0.7333\n",
            "Epoch 25/100\n",
            "858/858 [==============================] - 2s 2ms/step - loss: 0.5464 - accuracy: 0.7332\n",
            "Epoch 26/100\n",
            "858/858 [==============================] - 2s 2ms/step - loss: 0.5458 - accuracy: 0.7335\n",
            "Epoch 27/100\n",
            "858/858 [==============================] - 2s 2ms/step - loss: 0.5457 - accuracy: 0.7332\n",
            "Epoch 28/100\n",
            "858/858 [==============================] - 2s 2ms/step - loss: 0.5460 - accuracy: 0.7320\n",
            "Epoch 29/100\n",
            "858/858 [==============================] - 2s 2ms/step - loss: 0.5457 - accuracy: 0.7322\n",
            "Epoch 30/100\n",
            "858/858 [==============================] - 2s 3ms/step - loss: 0.5458 - accuracy: 0.7334\n",
            "Epoch 31/100\n",
            "858/858 [==============================] - 2s 2ms/step - loss: 0.5454 - accuracy: 0.7328\n",
            "Epoch 32/100\n",
            "858/858 [==============================] - 2s 2ms/step - loss: 0.5454 - accuracy: 0.7336\n",
            "Epoch 33/100\n",
            "858/858 [==============================] - 2s 2ms/step - loss: 0.5457 - accuracy: 0.7327\n",
            "Epoch 34/100\n",
            "858/858 [==============================] - 2s 2ms/step - loss: 0.5454 - accuracy: 0.7335\n",
            "Epoch 35/100\n",
            "858/858 [==============================] - 2s 2ms/step - loss: 0.5453 - accuracy: 0.7340\n",
            "Epoch 36/100\n",
            "858/858 [==============================] - 2s 2ms/step - loss: 0.5455 - accuracy: 0.7327\n",
            "Epoch 37/100\n",
            "858/858 [==============================] - 3s 3ms/step - loss: 0.5452 - accuracy: 0.7326\n",
            "Epoch 38/100\n",
            "858/858 [==============================] - 2s 2ms/step - loss: 0.5449 - accuracy: 0.7341\n",
            "Epoch 39/100\n",
            "858/858 [==============================] - 2s 2ms/step - loss: 0.5452 - accuracy: 0.7328\n",
            "Epoch 40/100\n",
            "858/858 [==============================] - 2s 2ms/step - loss: 0.5451 - accuracy: 0.7331\n",
            "Epoch 41/100\n",
            "858/858 [==============================] - 2s 2ms/step - loss: 0.5451 - accuracy: 0.7338\n",
            "Epoch 42/100\n",
            "858/858 [==============================] - 2s 2ms/step - loss: 0.5449 - accuracy: 0.7326\n",
            "Epoch 43/100\n",
            "858/858 [==============================] - 2s 2ms/step - loss: 0.5449 - accuracy: 0.7333\n",
            "Epoch 44/100\n",
            "858/858 [==============================] - 3s 3ms/step - loss: 0.5449 - accuracy: 0.7340\n",
            "Epoch 45/100\n",
            "858/858 [==============================] - 2s 2ms/step - loss: 0.5450 - accuracy: 0.7342\n",
            "Epoch 46/100\n",
            "858/858 [==============================] - 2s 2ms/step - loss: 0.5446 - accuracy: 0.7341\n",
            "Epoch 47/100\n",
            "858/858 [==============================] - 3s 4ms/step - loss: 0.5450 - accuracy: 0.7339\n",
            "Epoch 48/100\n",
            "858/858 [==============================] - 3s 3ms/step - loss: 0.5448 - accuracy: 0.7336\n",
            "Epoch 49/100\n",
            "858/858 [==============================] - 3s 3ms/step - loss: 0.5449 - accuracy: 0.7328\n",
            "Epoch 50/100\n",
            "858/858 [==============================] - 4s 5ms/step - loss: 0.5445 - accuracy: 0.7340\n",
            "Epoch 51/100\n",
            "858/858 [==============================] - 2s 2ms/step - loss: 0.5447 - accuracy: 0.7338\n",
            "Epoch 52/100\n",
            "858/858 [==============================] - 2s 2ms/step - loss: 0.5449 - accuracy: 0.7338\n",
            "Epoch 53/100\n",
            "858/858 [==============================] - 2s 2ms/step - loss: 0.5445 - accuracy: 0.7343\n",
            "Epoch 54/100\n",
            "858/858 [==============================] - 2s 3ms/step - loss: 0.5445 - accuracy: 0.7343\n",
            "Epoch 55/100\n",
            "858/858 [==============================] - 2s 3ms/step - loss: 0.5445 - accuracy: 0.7333\n",
            "Epoch 56/100\n",
            "858/858 [==============================] - 2s 2ms/step - loss: 0.5444 - accuracy: 0.7350\n",
            "Epoch 57/100\n",
            "858/858 [==============================] - 2s 2ms/step - loss: 0.5443 - accuracy: 0.7344\n",
            "Epoch 58/100\n",
            "858/858 [==============================] - 2s 2ms/step - loss: 0.5443 - accuracy: 0.7345\n",
            "Epoch 59/100\n",
            "858/858 [==============================] - 2s 2ms/step - loss: 0.5443 - accuracy: 0.7342\n",
            "Epoch 60/100\n",
            "858/858 [==============================] - 2s 2ms/step - loss: 0.5443 - accuracy: 0.7355\n",
            "Epoch 61/100\n",
            "858/858 [==============================] - 3s 3ms/step - loss: 0.5443 - accuracy: 0.7337\n",
            "Epoch 62/100\n",
            "858/858 [==============================] - 2s 2ms/step - loss: 0.5443 - accuracy: 0.7338\n",
            "Epoch 63/100\n",
            "858/858 [==============================] - 2s 2ms/step - loss: 0.5440 - accuracy: 0.7342\n",
            "Epoch 64/100\n",
            "858/858 [==============================] - 2s 2ms/step - loss: 0.5441 - accuracy: 0.7337\n",
            "Epoch 65/100\n",
            "858/858 [==============================] - 2s 2ms/step - loss: 0.5440 - accuracy: 0.7335\n",
            "Epoch 66/100\n",
            "858/858 [==============================] - 2s 2ms/step - loss: 0.5442 - accuracy: 0.7348\n",
            "Epoch 67/100\n",
            "858/858 [==============================] - 2s 2ms/step - loss: 0.5443 - accuracy: 0.7336\n",
            "Epoch 68/100\n",
            "858/858 [==============================] - 3s 3ms/step - loss: 0.5439 - accuracy: 0.7357\n",
            "Epoch 69/100\n",
            "858/858 [==============================] - 2s 2ms/step - loss: 0.5439 - accuracy: 0.7338\n",
            "Epoch 70/100\n",
            "858/858 [==============================] - 2s 2ms/step - loss: 0.5439 - accuracy: 0.7342\n",
            "Epoch 71/100\n",
            "858/858 [==============================] - 2s 2ms/step - loss: 0.5441 - accuracy: 0.7339\n",
            "Epoch 72/100\n",
            "858/858 [==============================] - 2s 2ms/step - loss: 0.5438 - accuracy: 0.7349\n",
            "Epoch 73/100\n",
            "858/858 [==============================] - 3s 3ms/step - loss: 0.5437 - accuracy: 0.7349\n",
            "Epoch 74/100\n",
            "858/858 [==============================] - 3s 3ms/step - loss: 0.5436 - accuracy: 0.7346\n",
            "Epoch 75/100\n",
            "858/858 [==============================] - 2s 2ms/step - loss: 0.5438 - accuracy: 0.7349\n",
            "Epoch 76/100\n",
            "858/858 [==============================] - 2s 2ms/step - loss: 0.5437 - accuracy: 0.7346\n",
            "Epoch 77/100\n",
            "858/858 [==============================] - 2s 2ms/step - loss: 0.5437 - accuracy: 0.7346\n",
            "Epoch 78/100\n",
            "858/858 [==============================] - 2s 2ms/step - loss: 0.5436 - accuracy: 0.7354\n",
            "Epoch 79/100\n",
            "858/858 [==============================] - 2s 2ms/step - loss: 0.5435 - accuracy: 0.7349\n",
            "Epoch 80/100\n",
            "858/858 [==============================] - 2s 3ms/step - loss: 0.5432 - accuracy: 0.7335\n",
            "Epoch 81/100\n",
            "858/858 [==============================] - 2s 3ms/step - loss: 0.5436 - accuracy: 0.7353\n",
            "Epoch 82/100\n",
            "858/858 [==============================] - 2s 2ms/step - loss: 0.5437 - accuracy: 0.7355\n",
            "Epoch 83/100\n",
            "858/858 [==============================] - 2s 2ms/step - loss: 0.5435 - accuracy: 0.7357\n",
            "Epoch 84/100\n",
            "858/858 [==============================] - 2s 2ms/step - loss: 0.5437 - accuracy: 0.7347\n",
            "Epoch 85/100\n",
            "858/858 [==============================] - 2s 2ms/step - loss: 0.5435 - accuracy: 0.7349\n",
            "Epoch 86/100\n",
            "858/858 [==============================] - 2s 2ms/step - loss: 0.5431 - accuracy: 0.7348\n",
            "Epoch 87/100\n",
            "858/858 [==============================] - 2s 3ms/step - loss: 0.5434 - accuracy: 0.7350\n",
            "Epoch 88/100\n",
            "858/858 [==============================] - 2s 3ms/step - loss: 0.5435 - accuracy: 0.7342\n",
            "Epoch 89/100\n",
            "858/858 [==============================] - 2s 2ms/step - loss: 0.5435 - accuracy: 0.7350\n",
            "Epoch 90/100\n",
            "858/858 [==============================] - 2s 2ms/step - loss: 0.5433 - accuracy: 0.7352\n",
            "Epoch 91/100\n",
            "858/858 [==============================] - 2s 2ms/step - loss: 0.5431 - accuracy: 0.7354\n",
            "Epoch 92/100\n",
            "858/858 [==============================] - 2s 2ms/step - loss: 0.5432 - accuracy: 0.7353\n",
            "Epoch 93/100\n",
            "858/858 [==============================] - 2s 2ms/step - loss: 0.5434 - accuracy: 0.7352\n",
            "Epoch 94/100\n",
            "858/858 [==============================] - 3s 3ms/step - loss: 0.5428 - accuracy: 0.7346\n",
            "Epoch 95/100\n",
            "858/858 [==============================] - 2s 2ms/step - loss: 0.5434 - accuracy: 0.7356\n",
            "Epoch 96/100\n",
            "858/858 [==============================] - 2s 2ms/step - loss: 0.5432 - accuracy: 0.7354\n",
            "Epoch 97/100\n",
            "858/858 [==============================] - 2s 2ms/step - loss: 0.5431 - accuracy: 0.7337\n",
            "Epoch 98/100\n",
            "858/858 [==============================] - 2s 2ms/step - loss: 0.5429 - accuracy: 0.7353\n",
            "Epoch 99/100\n",
            "858/858 [==============================] - 2s 2ms/step - loss: 0.5430 - accuracy: 0.7350\n",
            "Epoch 100/100\n",
            "858/858 [==============================] - 2s 2ms/step - loss: 0.5429 - accuracy: 0.7348\n"
          ]
        },
        {
          "output_type": "execute_result",
          "data": {
            "text/plain": [
              "<keras.src.callbacks.History at 0x7d9c6e416440>"
            ]
          },
          "metadata": {},
          "execution_count": 36
        }
      ],
      "source": [
        "# Train the model\n",
        "nn.fit(X_train_scaled, y_train, epochs=100)\n"
      ]
    },
    {
      "cell_type": "code",
      "execution_count": null,
      "metadata": {
        "colab": {
          "base_uri": "https://localhost:8080/"
        },
        "id": "TgF1Mr3sM9QB",
        "outputId": "b9f4498a-a9e1-4a7c-b559-811f50004f22"
      },
      "outputs": [
        {
          "output_type": "stream",
          "name": "stdout",
          "text": [
            "215/215 - 0s - loss: 0.5567 - accuracy: 0.7305 - 441ms/epoch - 2ms/step\n",
            "Loss: 0.5567445158958435, Accuracy: 0.7304664850234985\n"
          ]
        }
      ],
      "source": [
        "# Evaluate the model using the test data\n",
        "model_loss, model_accuracy = nn.evaluate(X_test_scaled,y_test,verbose=2)\n",
        "print(f\"Loss: {model_loss}, Accuracy: {model_accuracy}\")"
      ]
    },
    {
      "cell_type": "code",
      "execution_count": null,
      "metadata": {
        "colab": {
          "base_uri": "https://localhost:8080/"
        },
        "id": "Rx0ZbvlkM9QB",
        "outputId": "6f80e9aa-1aaf-45bd-ce8d-9cc0f56d7bbc"
      },
      "outputs": [
        {
          "output_type": "stream",
          "name": "stdout",
          "text": [
            "Model saved to: your_model.h5\n"
          ]
        },
        {
          "output_type": "stream",
          "name": "stderr",
          "text": [
            "/usr/local/lib/python3.10/dist-packages/keras/src/engine/training.py:3103: UserWarning: You are saving your model as an HDF5 file via `model.save()`. This file format is considered legacy. We recommend using instead the native Keras format, e.g. `model.save('my_model.keras')`.\n",
            "  saving_api.save_model(\n"
          ]
        }
      ],
      "source": [
        "# Export our model to HDF5 file\n",
        "\n",
        "# Define the file path for the exported model\n",
        "model_path = \"your_model.h5\"\n",
        "\n",
        "# Export the model to an HDF5 file\n",
        "nn.save(model_path)\n",
        "\n",
        "# Print a message to confirm that the model has been exported\n",
        "print(f\"Model saved to: {model_path}\")"
      ]
    }
  ],
  "metadata": {
    "kernelspec": {
      "display_name": "Python 3",
      "language": "python",
      "name": "python3"
    },
    "language_info": {
      "codemirror_mode": {
        "name": "ipython",
        "version": 3
      },
      "file_extension": ".py",
      "mimetype": "text/x-python",
      "name": "python",
      "nbconvert_exporter": "python",
      "pygments_lexer": "ipython3",
      "version": "3.-1.-1"
    },
    "vscode": {
      "interpreter": {
        "hash": "31f2aee4e71d21fbe5cf8b01ff0e069b9275f58929596ceb00d14d90e3e16cd6"
      }
    },
    "colab": {
      "provenance": []
    }
  },
  "nbformat": 4,
  "nbformat_minor": 0
}